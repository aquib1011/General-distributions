{
  "nbformat": 4,
  "nbformat_minor": 0,
  "metadata": {
    "colab": {
      "name": "Test.ipynb",
      "provenance": [],
      "authorship_tag": "ABX9TyNjKv+oUguPiP5SFDsZJhe9",
      "include_colab_link": true
    },
    "kernelspec": {
      "name": "python3",
      "display_name": "Python 3"
    }
  },
  "cells": [
    {
      "cell_type": "markdown",
      "metadata": {
        "id": "view-in-github",
        "colab_type": "text"
      },
      "source": [
        "<a href=\"https://colab.research.google.com/github/aquib1011/general-distribution/blob/master/Test.ipynb\" target=\"_parent\"><img src=\"https://colab.research.google.com/assets/colab-badge.svg\" alt=\"Open In Colab\"/></a>"
      ]
    },
    {
      "cell_type": "code",
      "metadata": {
        "id": "atT9i9wPUpRX",
        "colab_type": "code",
        "outputId": "0c72cdf4-d5bc-46c5-abeb-6107cd4ad5fd",
        "colab": {
          "base_uri": "https://localhost:8080/",
          "height": 34
        }
      },
      "source": [
        "!pip install general-distribution  #pip installing the package"
      ],
      "execution_count": 0,
      "outputs": [
        {
          "output_type": "stream",
          "text": [
            "Requirement already satisfied: general-distribution in /usr/local/lib/python3.6/dist-packages (0.0.1)\n"
          ],
          "name": "stdout"
        }
      ]
    },
    {
      "cell_type": "code",
      "metadata": {
        "id": "TLTRbvkbq_ph",
        "colab_type": "code",
        "colab": {
          "base_uri": "https://localhost:8080/",
          "height": 187
        },
        "outputId": "a5912f9c-dc38-406e-9fc8-d26269cfacdd"
      },
      "source": [
        "!pip show general-distribution"
      ],
      "execution_count": 6,
      "outputs": [
        {
          "output_type": "stream",
          "text": [
            "Name: general-distribution\n",
            "Version: 0.0.1\n",
            "Summary: probability distribution is the mathematical function that gives the probabilities of occurrence\n",
            "Home-page: https://github.com/aquib1011/general-distribution\n",
            "Author: Aquib Iqbal\n",
            "Author-email: None\n",
            "License: MIT\n",
            "Location: /usr/local/lib/python3.6/dist-packages\n",
            "Requires: \n",
            "Required-by: \n"
          ],
          "name": "stdout"
        }
      ]
    },
    {
      "cell_type": "code",
      "metadata": {
        "id": "lYjpNV3faoCv",
        "colab_type": "code",
        "colab": {}
      },
      "source": [
        "from general_distribution import Gaussian, Binomial  # importing probablity classes"
      ],
      "execution_count": 0,
      "outputs": []
    },
    {
      "cell_type": "markdown",
      "metadata": {
        "id": "EFAI8A29hIFE",
        "colab_type": "text"
      },
      "source": [
        "**Gaussian class**"
      ]
    },
    {
      "cell_type": "code",
      "metadata": {
        "id": "VBPc20j9avZL",
        "colab_type": "code",
        "colab": {}
      },
      "source": [
        "gaussian= Gaussian() "
      ],
      "execution_count": 0,
      "outputs": []
    },
    {
      "cell_type": "code",
      "metadata": {
        "id": "I_tPugAaazN1",
        "colab_type": "code",
        "colab": {}
      },
      "source": [
        "gaussian.read_data_file('/content/numbers.txt')"
      ],
      "execution_count": 0,
      "outputs": []
    },
    {
      "cell_type": "code",
      "metadata": {
        "id": "EcWNfMVrdOqD",
        "colab_type": "code",
        "outputId": "12ad5414-9c85-4c9b-eb92-10afaaaced06",
        "colab": {
          "base_uri": "https://localhost:8080/",
          "height": 663
        }
      },
      "source": [
        "gaussian.data"
      ],
      "execution_count": 10,
      "outputs": [
        {
          "output_type": "execute_result",
          "data": {
            "text/plain": [
              "[1,\n",
              " 3,\n",
              " 99,\n",
              " 100,\n",
              " 120,\n",
              " 32,\n",
              " 330,\n",
              " 23,\n",
              " 76,\n",
              " 44,\n",
              " 31,\n",
              " 32,\n",
              " 4,\n",
              " 3,\n",
              " 2,\n",
              " 43,\n",
              " 2,\n",
              " 1,\n",
              " 2,\n",
              " 12,\n",
              " 210,\n",
              " 42,\n",
              " 35,\n",
              " 46,\n",
              " 76,\n",
              " 3,\n",
              " 4,\n",
              " 55,\n",
              " 32,\n",
              " 32,\n",
              " 12,\n",
              " 23,\n",
              " 42,\n",
              " 5,\n",
              " 44,\n",
              " 65,\n",
              " 55,\n",
              " 5]"
            ]
          },
          "metadata": {
            "tags": []
          },
          "execution_count": 10
        }
      ]
    },
    {
      "cell_type": "code",
      "metadata": {
        "id": "eVEkKUdsa9Oh",
        "colab_type": "code",
        "outputId": "e42b0b54-de25-469f-d786-5f965f51a340",
        "colab": {
          "base_uri": "https://localhost:8080/",
          "height": 34
        }
      },
      "source": [
        "gaussian.calculate_mean() #To calculate Gaussian mean in distribution\n"
      ],
      "execution_count": 11,
      "outputs": [
        {
          "output_type": "execute_result",
          "data": {
            "text/plain": [
              "45.94736842105263"
            ]
          },
          "metadata": {
            "tags": []
          },
          "execution_count": 11
        }
      ]
    },
    {
      "cell_type": "code",
      "metadata": {
        "id": "UojaZOUpbCB9",
        "colab_type": "code",
        "outputId": "1aa1c01c-36af-4c34-fa36-e02f1b838dd2",
        "colab": {
          "base_uri": "https://localhost:8080/",
          "height": 34
        }
      },
      "source": [
        "gaussian.calculate_stdev() #To calculate Standard deviation"
      ],
      "execution_count": 12,
      "outputs": [
        {
          "output_type": "execute_result",
          "data": {
            "text/plain": [
              "63.228435002676015"
            ]
          },
          "metadata": {
            "tags": []
          },
          "execution_count": 12
        }
      ]
    },
    {
      "cell_type": "code",
      "metadata": {
        "id": "OoROyOBrbIL9",
        "colab_type": "code",
        "outputId": "367731d1-0932-4d2b-c0ea-a7da1e59d2a5",
        "colab": {
          "base_uri": "https://localhost:8080/",
          "height": 34
        }
      },
      "source": [
        "gaussian.pdf(3) #To calculate Probability distribution function"
      ],
      "execution_count": 13,
      "outputs": [
        {
          "output_type": "execute_result",
          "data": {
            "text/plain": [
              "0.005009710904522521"
            ]
          },
          "metadata": {
            "tags": []
          },
          "execution_count": 13
        }
      ]
    },
    {
      "cell_type": "code",
      "metadata": {
        "id": "A9IDgi7KbSpe",
        "colab_type": "code",
        "outputId": "d5687a48-09f4-4475-bf45-3150d451e0fb",
        "colab": {
          "base_uri": "https://localhost:8080/",
          "height": 295
        }
      },
      "source": [
        "gaussian.plot_histogram()"
      ],
      "execution_count": 14,
      "outputs": [
        {
          "output_type": "display_data",
          "data": {
            "image/png": "[encoded data removed]",
            "text/plain": [
              "<Figure size 432x288 with 1 Axes>"
            ]
          },
          "metadata": {
            "tags": [],
            "needs_background": "light"
          }
        }
      ]
    },
    {
      "cell_type": "code",
      "metadata": {
        "id": "TqmK1IYdbOqf",
        "colab_type": "code",
        "colab": {
          "base_uri": "https://localhost:8080/",
          "height": 1000
        },
        "outputId": "e5e3cc6d-9c19-402e-c0d3-fe0fa0b0a750"
      },
      "source": [
        "gaussian.plot_histogram_pdf()"
      ],
      "execution_count": 15,
      "outputs": [
        {
          "output_type": "display_data",
          "data": {
            "image/png": "[encoded data removed]",
            "text/plain": [
              "<Figure size 432x288 with 2 Axes>"
            ]
          },
          "metadata": {
            "tags": [],
            "needs_background": "light"
          }
        },
        {
          "output_type": "execute_result",
          "data": {
            "text/plain": [
              "([1.0,\n",
              "  7.58,\n",
              "  14.16,\n",
              "  20.740000000000002,\n",
              "  27.32,\n",
              "  33.9,\n",
              "  40.480000000000004,\n",
              "  47.06,\n",
              "  53.64,\n",
              "  60.22,\n",
              "  66.8,\n",
              "  73.38,\n",
              "  79.96000000000001,\n",
              "  86.54,\n",
              "  93.12,\n",
              "  99.7,\n",
              "  106.28,\n",
              "  112.86,\n",
              "  119.44,\n",
              "  126.02,\n",
              "  132.6,\n",
              "  139.18,\n",
              "  145.76,\n",
              "  152.34,\n",
              "  158.92000000000002,\n",
              "  165.5,\n",
              "  172.08,\n",
              "  178.66,\n",
              "  185.24,\n",
              "  191.82,\n",
              "  198.4,\n",
              "  204.98,\n",
              "  211.56,\n",
              "  218.14000000000001,\n",
              "  224.72,\n",
              "  231.3,\n",
              "  237.88,\n",
              "  244.46,\n",
              "  251.04,\n",
              "  257.62,\n",
              "  264.2,\n",
              "  270.78000000000003,\n",
              "  277.36,\n",
              "  283.94,\n",
              "  290.52,\n",
              "  297.1,\n",
              "  303.68,\n",
              "  310.26,\n",
              "  316.84000000000003,\n",
              "  323.42],\n",
              " [0.0049007714220503824,\n",
              "  0.005248572353495009,\n",
              "  0.005560508864008112,\n",
              "  0.005827529674504218,\n",
              "  0.006041587327675235,\n",
              "  0.006196040222550849,\n",
              "  0.0062859946464238784,\n",
              "  0.006308562246688021,\n",
              "  0.006263014047386119,\n",
              "  0.0061508195538439074,\n",
              "  0.005975568019127943,\n",
              "  0.005742777756965704,\n",
              "  0.005459607633194903,\n",
              "  0.005134491773471409,\n",
              "  0.004776723465711013,\n",
              "  0.004396016811880807,\n",
              "  0.004002074757454878,\n",
              "  0.0036041898264055944,\n",
              "  0.003210899580535728,\n",
              "  0.0028297130505491037,\n",
              "  0.0024669178048153384,\n",
              "  0.002127470606864784,\n",
              "  0.0018149683875947529,\n",
              "  0.0015316910296854051,\n",
              "  0.0012787035773246848,\n",
              "  0.0010560031137967967,\n",
              "  0.0008626946897597493,\n",
              "  0.0006971811849636934,\n",
              "  0.0005573535849770125,\n",
              "  0.0004407705272055849,\n",
              "  0.0003448187733438981,\n",
              "  0.00026684917561030683,\n",
              "  0.00020428545005873758,\n",
              "  0.00015470544999217058,\n",
              "  0.00011589652072353397,\n",
              "  8.588786176143866e-05,\n",
              "  6.296363470226293e-05,\n",
              "  4.566089267739277e-05,\n",
              "  3.27563582530809e-05,\n",
              "  2.3245743117712322e-05,\n",
              "  1.6318786611913036e-05,\n",
              "  1.1332582783032305e-05,\n",
              "  7.785142104197937e-06,\n",
              "  5.290549665288782e-06,\n",
              "  3.5565724049292966e-06,\n",
              "  2.3651523494365443e-06,\n",
              "  1.5559054222173052e-06,\n",
              "  1.0125206173162842e-06,\n",
              "  6.518102168599407e-07,\n",
              "  4.150831073880331e-07])"
            ]
          },
          "metadata": {
            "tags": []
          },
          "execution_count": 15
        }
      ]
    },
    {
      "cell_type": "code",
      "metadata": {
        "id": "0ddya3yIgxZJ",
        "colab_type": "code",
        "colab": {}
      },
      "source": [
        "#Addition of two Gaussian\n",
        "\n",
        "gaussian_one = Gaussian(25, 3)\n",
        "gaussian_two = Gaussian(30, 4)\n",
        "gaussian_sum = gaussian_one + gaussian_two"
      ],
      "execution_count": 0,
      "outputs": []
    },
    {
      "cell_type": "code",
      "metadata": {
        "id": "YuQ2RbZWg5lI",
        "colab_type": "code",
        "outputId": "f4c99d94-9995-4686-8a9b-32cf277bd376",
        "colab": {
          "base_uri": "https://localhost:8080/",
          "height": 34
        }
      },
      "source": [
        "print(gaussian_sum)"
      ],
      "execution_count": 17,
      "outputs": [
        {
          "output_type": "stream",
          "text": [
            "mean 55, standard deviation 5.0\n"
          ],
          "name": "stdout"
        }
      ]
    },
    {
      "cell_type": "markdown",
      "metadata": {
        "id": "W7wVttPJg-wW",
        "colab_type": "text"
      },
      "source": [
        "**BINOMIAL DISTRIBUTION**"
      ]
    },
    {
      "cell_type": "code",
      "metadata": {
        "id": "vNOsbsn3bbLb",
        "colab_type": "code",
        "colab": {}
      },
      "source": [
        "binomial = Binomial(.23,2) # Assigning Binomial class with probability and number of trials\n"
      ],
      "execution_count": 0,
      "outputs": []
    },
    {
      "cell_type": "code",
      "metadata": {
        "id": "c_3cMYgQbgTO",
        "colab_type": "code",
        "colab": {}
      },
      "source": [
        "binomial.read_data_file(\"/content/numbers.txt\")"
      ],
      "execution_count": 0,
      "outputs": []
    },
    {
      "cell_type": "code",
      "metadata": {
        "id": "eVno2u-qbn8F",
        "colab_type": "code",
        "outputId": "5ada9a03-c29a-46c1-d2f0-57a4894593ff",
        "colab": {
          "base_uri": "https://localhost:8080/",
          "height": 34
        }
      },
      "source": [
        "binomial.calculate_mean()  #To calculate Binomial mean in distribution"
      ],
      "execution_count": 20,
      "outputs": [
        {
          "output_type": "execute_result",
          "data": {
            "text/plain": [
              "0.46"
            ]
          },
          "metadata": {
            "tags": []
          },
          "execution_count": 20
        }
      ]
    },
    {
      "cell_type": "code",
      "metadata": {
        "id": "Jfu4FSeKbsW8",
        "colab_type": "code",
        "colab": {
          "base_uri": "https://localhost:8080/",
          "height": 34
        },
        "outputId": "a97fbf74-1f20-477e-e7e2-745364c89bdd"
      },
      "source": [
        "binomial.calculate_stdev() #To calculate Standard deviation"
      ],
      "execution_count": 21,
      "outputs": [
        {
          "output_type": "execute_result",
          "data": {
            "text/plain": [
              "0.5951470406546604"
            ]
          },
          "metadata": {
            "tags": []
          },
          "execution_count": 21
        }
      ]
    },
    {
      "cell_type": "code",
      "metadata": {
        "id": "KA5nBg0_hvo6",
        "colab_type": "code",
        "outputId": "08e77ebb-e7b2-45be-acae-3773f21814cf",
        "colab": {
          "base_uri": "https://localhost:8080/",
          "height": 34
        }
      },
      "source": [
        "binomial.pdf(1) #Probability distribution function"
      ],
      "execution_count": 22,
      "outputs": [
        {
          "output_type": "execute_result",
          "data": {
            "text/plain": [
              "0.3542"
            ]
          },
          "metadata": {
            "tags": []
          },
          "execution_count": 22
        }
      ]
    },
    {
      "cell_type": "code",
      "metadata": {
        "id": "nDgr_805iNA6",
        "colab_type": "code",
        "outputId": "573615f8-77b6-4d16-e1cf-c17e7818251a",
        "colab": {
          "base_uri": "https://localhost:8080/",
          "height": 312
        }
      },
      "source": [
        "binomial.plot_bar_pdf()"
      ],
      "execution_count": 23,
      "outputs": [
        {
          "output_type": "display_data",
          "data": {
            "image/png": "[encoded data removed]",
            "text/plain": [
              "<Figure size 432x288 with 1 Axes>"
            ]
          },
          "metadata": {
            "tags": [],
            "needs_background": "light"
          }
        },
        {
          "output_type": "execute_result",
          "data": {
            "text/plain": [
              "([0, 1, 2], [0.5929, 0.3542, 0.0529])"
            ]
          },
          "metadata": {
            "tags": []
          },
          "execution_count": 23
        }
      ]
    },
    {
      "cell_type": "code",
      "metadata": {
        "id": "8VkkXUEAiRfT",
        "colab_type": "code",
        "outputId": "33e719ea-9052-40d5-8a94-943673b5efc2",
        "colab": {
          "base_uri": "https://localhost:8080/",
          "height": 34
        }
      },
      "source": [
        "#Addition of two Binomial\n",
        "\n",
        "binomial_one = Binomial(.4, 20)\n",
        "binomial_two = Binomial(.4, 60)\n",
        "binomial_sum = binomial_one + binomial_two\n",
        "print(binomial_sum)"
      ],
      "execution_count": 24,
      "outputs": [
        {
          "output_type": "stream",
          "text": [
            "mean 32.0, standard deviation 4.381780460041329, p 0.4, n 80\n"
          ],
          "name": "stdout"
        }
      ]
    },
    {
      "cell_type": "code",
      "metadata": {
        "id": "Q53CsxZeigbH",
        "colab_type": "code",
        "colab": {}
      },
      "source": [
        ""
      ],
      "execution_count": 0,
      "outputs": []
    }
  ]
}