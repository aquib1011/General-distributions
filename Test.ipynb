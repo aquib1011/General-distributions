{
  "nbformat": 4,
  "nbformat_minor": 0,
  "metadata": {
    "colab": {
      "name": "Test.ipynb",
      "provenance": [],
      "authorship_tag": "ABX9TyNPvITxh/WDQ9Ql4ngofXP3",
      "include_colab_link": true
    },
    "kernelspec": {
      "name": "python3",
      "display_name": "Python 3"
    }
  },
  "cells": [
    {
      "cell_type": "markdown",
      "metadata": {
        "id": "view-in-github",
        "colab_type": "text"
      },
      "source": [
        "<a href=\"https://colab.research.google.com/github/aquib1011/general-distribution/blob/master/Test.ipynb\" target=\"_parent\"><img src=\"https://colab.research.google.com/assets/colab-badge.svg\" alt=\"Open In Colab\"/></a>"
      ]
    },
    {
      "cell_type": "code",
      "metadata": {
        "id": "atT9i9wPUpRX",
        "colab_type": "code",
        "colab": {
          "base_uri": "https://localhost:8080/",
          "height": 34
        },
        "outputId": "0c72cdf4-d5bc-46c5-abeb-6107cd4ad5fd"
      },
      "source": [
        "!pip install general-distribution  #pip installing the package"
      ],
      "execution_count": 1,
      "outputs": [
        {
          "output_type": "stream",
          "text": [
            "Requirement already satisfied: general-distribution in /usr/local/lib/python3.6/dist-packages (0.0.1)\n"
          ],
          "name": "stdout"
        }
      ]
    },
    {
      "cell_type": "code",
      "metadata": {
        "id": "lYjpNV3faoCv",
        "colab_type": "code",
        "colab": {}
      },
      "source": [
        "from general_distribution import Gaussian, Binomial  # importing probablity classes"
      ],
      "execution_count": 0,
      "outputs": []
    },
    {
      "cell_type": "markdown",
      "metadata": {
        "id": "EFAI8A29hIFE",
        "colab_type": "text"
      },
      "source": [
        "**Gaussian class**"
      ]
    },
    {
      "cell_type": "code",
      "metadata": {
        "id": "VBPc20j9avZL",
        "colab_type": "code",
        "colab": {}
      },
      "source": [
        "gaussian= Gaussian() "
      ],
      "execution_count": 0,
      "outputs": []
    },
    {
      "cell_type": "code",
      "metadata": {
        "id": "I_tPugAaazN1",
        "colab_type": "code",
        "colab": {}
      },
      "source": [
        "gaussian.read_data_file('/content/numbers.txt')"
      ],
      "execution_count": 0,
      "outputs": []
    },
    {
      "cell_type": "code",
      "metadata": {
        "id": "EcWNfMVrdOqD",
        "colab_type": "code",
        "colab": {
          "base_uri": "https://localhost:8080/",
          "height": 663
        },
        "outputId": "be753c26-35d7-4867-87d1-053183e58c84"
      },
      "source": [
        "gaussian.data"
      ],
      "execution_count": 5,
      "outputs": [
        {
          "output_type": "execute_result",
          "data": {
            "text/plain": [
              "[1,\n",
              " 3,\n",
              " 99,\n",
              " 100,\n",
              " 120,\n",
              " 32,\n",
              " 330,\n",
              " 23,\n",
              " 76,\n",
              " 44,\n",
              " 31,\n",
              " 32,\n",
              " 4,\n",
              " 3,\n",
              " 2,\n",
              " 43,\n",
              " 2,\n",
              " 1,\n",
              " 2,\n",
              " 12,\n",
              " 210,\n",
              " 42,\n",
              " 35,\n",
              " 46,\n",
              " 76,\n",
              " 3,\n",
              " 4,\n",
              " 55,\n",
              " 32,\n",
              " 32,\n",
              " 12,\n",
              " 23,\n",
              " 42,\n",
              " 5,\n",
              " 44,\n",
              " 65,\n",
              " 55,\n",
              " 5]"
            ]
          },
          "metadata": {
            "tags": []
          },
          "execution_count": 5
        }
      ]
    },
    {
      "cell_type": "code",
      "metadata": {
        "id": "eVEkKUdsa9Oh",
        "colab_type": "code",
        "colab": {
          "base_uri": "https://localhost:8080/",
          "height": 34
        },
        "outputId": "29fa7c0b-fa14-45f4-9d7a-ca65f5ff4756"
      },
      "source": [
        "gaussian.calculate_mean() #To calculate Gaussian mean in distribution\n"
      ],
      "execution_count": 6,
      "outputs": [
        {
          "output_type": "execute_result",
          "data": {
            "text/plain": [
              "45.94736842105263"
            ]
          },
          "metadata": {
            "tags": []
          },
          "execution_count": 6
        }
      ]
    },
    {
      "cell_type": "code",
      "metadata": {
        "id": "UojaZOUpbCB9",
        "colab_type": "code",
        "colab": {
          "base_uri": "https://localhost:8080/",
          "height": 34
        },
        "outputId": "1e462489-9a1b-40f8-8866-8dbe320e66b8"
      },
      "source": [
        "gaussian.calculate_stdev() #To calculate Standard deviation"
      ],
      "execution_count": 7,
      "outputs": [
        {
          "output_type": "execute_result",
          "data": {
            "text/plain": [
              "63.228435002676015"
            ]
          },
          "metadata": {
            "tags": []
          },
          "execution_count": 7
        }
      ]
    },
    {
      "cell_type": "code",
      "metadata": {
        "id": "OoROyOBrbIL9",
        "colab_type": "code",
        "colab": {
          "base_uri": "https://localhost:8080/",
          "height": 34
        },
        "outputId": "ea50b1ac-d378-47d5-9e67-e5f8bb2639bf"
      },
      "source": [
        "gaussian.pdf(3) #To calculate Probability distribution function"
      ],
      "execution_count": 9,
      "outputs": [
        {
          "output_type": "execute_result",
          "data": {
            "text/plain": [
              "0.005009710904522521"
            ]
          },
          "metadata": {
            "tags": []
          },
          "execution_count": 9
        }
      ]
    },
    {
      "cell_type": "code",
      "metadata": {
        "id": "A9IDgi7KbSpe",
        "colab_type": "code",
        "colab": {
          "base_uri": "https://localhost:8080/",
          "height": 295
        },
        "outputId": "dc074257-bc5d-4976-cf79-0e61d16082c4"
      },
      "source": [
        "gaussian.plot_histogram()"
      ],
      "execution_count": 10,
      "outputs": [
        {
          "output_type": "display_data",
          "data": {
            "image/png": "[encoded data removed]",
            "text/plain": [
              "<Figure size 432x288 with 1 Axes>"
            ]
          },
          "metadata": {
            "tags": [],
            "needs_background": "light"
          }
        }
      ]
    },
    {
      "cell_type": "code",
      "metadata": {
        "id": "TqmK1IYdbOqf",
        "colab_type": "code",
        "colab": {}
      },
      "source": [
        "gaussian.plot_histogram_pdf()"
      ],
      "execution_count": 0,
      "outputs": []
    },
    {
      "cell_type": "code",
      "metadata": {
        "id": "0ddya3yIgxZJ",
        "colab_type": "code",
        "colab": {}
      },
      "source": [
        "#Addition of two Gaussian\n",
        "\n",
        "gaussian_one = Gaussian(25, 3)\n",
        "gaussian_two = Gaussian(30, 4)\n",
        "gaussian_sum = gaussian_one + gaussian_two"
      ],
      "execution_count": 0,
      "outputs": []
    },
    {
      "cell_type": "code",
      "metadata": {
        "id": "YuQ2RbZWg5lI",
        "colab_type": "code",
        "colab": {
          "base_uri": "https://localhost:8080/",
          "height": 34
        },
        "outputId": "675e31e7-9bc0-473a-e8dd-553cd58bbcb0"
      },
      "source": [
        "print(gaussian_sum)"
      ],
      "execution_count": 13,
      "outputs": [
        {
          "output_type": "stream",
          "text": [
            "mean 55, standard deviation 5.0\n"
          ],
          "name": "stdout"
        }
      ]
    },
    {
      "cell_type": "markdown",
      "metadata": {
        "id": "W7wVttPJg-wW",
        "colab_type": "text"
      },
      "source": [
        "**BINOMIAL DISTRIBUTION**"
      ]
    },
    {
      "cell_type": "code",
      "metadata": {
        "id": "vNOsbsn3bbLb",
        "colab_type": "code",
        "colab": {}
      },
      "source": [
        "binomial = Binomial(.23,2) # Assigning Binomial class with probability and number of trials\n"
      ],
      "execution_count": 0,
      "outputs": []
    },
    {
      "cell_type": "code",
      "metadata": {
        "id": "c_3cMYgQbgTO",
        "colab_type": "code",
        "colab": {}
      },
      "source": [
        "binomial.read_data_file(\"/content/numbers.txt\")"
      ],
      "execution_count": 0,
      "outputs": []
    },
    {
      "cell_type": "code",
      "metadata": {
        "id": "eVno2u-qbn8F",
        "colab_type": "code",
        "colab": {
          "base_uri": "https://localhost:8080/",
          "height": 34
        },
        "outputId": "631a5bfc-bcb8-4913-ba68-33bdd5007388"
      },
      "source": [
        "binomial.calculate_mean()  #To calculate Binomial mean in distribution"
      ],
      "execution_count": 16,
      "outputs": [
        {
          "output_type": "execute_result",
          "data": {
            "text/plain": [
              "0.46"
            ]
          },
          "metadata": {
            "tags": []
          },
          "execution_count": 16
        }
      ]
    },
    {
      "cell_type": "code",
      "metadata": {
        "id": "Jfu4FSeKbsW8",
        "colab_type": "code",
        "colab": {}
      },
      "source": [
        "binomial.calculate_stdev() #To calculate Standard deviation"
      ],
      "execution_count": 0,
      "outputs": []
    },
    {
      "cell_type": "code",
      "metadata": {
        "id": "KA5nBg0_hvo6",
        "colab_type": "code",
        "colab": {
          "base_uri": "https://localhost:8080/",
          "height": 34
        },
        "outputId": "7bf45ffc-1731-434b-c4b5-bdfed4eae73b"
      },
      "source": [
        "binomial.pdf(1) #Probability distribution function"
      ],
      "execution_count": 19,
      "outputs": [
        {
          "output_type": "execute_result",
          "data": {
            "text/plain": [
              "0.3542"
            ]
          },
          "metadata": {
            "tags": []
          },
          "execution_count": 19
        }
      ]
    },
    {
      "cell_type": "code",
      "metadata": {
        "id": "nDgr_805iNA6",
        "colab_type": "code",
        "colab": {
          "base_uri": "https://localhost:8080/",
          "height": 312
        },
        "outputId": "4e9455a9-415f-4569-edbb-8140ab4e603d"
      },
      "source": [
        "binomial.plot_bar_pdf()"
      ],
      "execution_count": 21,
      "outputs": [
        {
          "output_type": "display_data",
          "data": {
            "image/png": "[encoded data removed]",
            "text/plain": [
              "<Figure size 432x288 with 1 Axes>"
            ]
          },
          "metadata": {
            "tags": [],
            "needs_background": "light"
          }
        },
        {
          "output_type": "execute_result",
          "data": {
            "text/plain": [
              "([0, 1, 2], [0.5929, 0.3542, 0.0529])"
            ]
          },
          "metadata": {
            "tags": []
          },
          "execution_count": 21
        }
      ]
    },
    {
      "cell_type": "code",
      "metadata": {
        "id": "8VkkXUEAiRfT",
        "colab_type": "code",
        "colab": {
          "base_uri": "https://localhost:8080/",
          "height": 34
        },
        "outputId": "10d92f0b-6e0e-4724-9a6b-11bdec428212"
      },
      "source": [
        "#Addition of two Binomial\n",
        "\n",
        "binomial_one = Binomial(.4, 20)\n",
        "binomial_two = Binomial(.4, 60)\n",
        "binomial_sum = binomial_one + binomial_two\n",
        "print(binomial_sum)"
      ],
      "execution_count": 22,
      "outputs": [
        {
          "output_type": "stream",
          "text": [
            "mean 32.0, standard deviation 4.381780460041329, p 0.4, n 80\n"
          ],
          "name": "stdout"
        }
      ]
    },
    {
      "cell_type": "code",
      "metadata": {
        "id": "Q53CsxZeigbH",
        "colab_type": "code",
        "colab": {}
      },
      "source": [
        ""
      ],
      "execution_count": 0,
      "outputs": []
    }
  ]
}