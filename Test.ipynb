{
  "nbformat": 4,
  "nbformat_minor": 0,
  "metadata": {
    "colab": {
      "name": "Test.ipynb",
      "provenance": [],
      "authorship_tag": "ABX9TyNjKv+oUguPiP5SFDsZJhe9",
      "include_colab_link": true
    },
    "kernelspec": {
      "name": "python3",
      "display_name": "Python 3"
    }
  },
  "cells": [
    {
      "cell_type": "markdown",
      "metadata": {
        "id": "view-in-github",
        "colab_type": "text"
      },
      "source": [
        "<a href=\"https://colab.research.google.com/github/aquib1011/general-distribution/blob/master/Test.ipynb\" target=\"_parent\"><img src=\"https://colab.research.google.com/assets/colab-badge.svg\" alt=\"Open In Colab\"/></a>"
      ]
    },
    {
      "cell_type": "code",
      "metadata": {
        "id": "atT9i9wPUpRX",
        "colab_type": "code",
        "outputId": "151d8475-b881-4254-ed7f-ca465715eabf",
        "colab": {
          "base_uri": "https://localhost:8080/",
          "height": 34
        }
      },
      "source": [
        "!pip install general-distribution  #pip installing the package"
      ],
      "execution_count": 1,
      "outputs": [
        {
          "output_type": "stream",
          "text": [
            "Requirement already satisfied: general-distribution in /usr/local/lib/python3.6/dist-packages (0.0.1)\n"
          ],
          "name": "stdout"
        }
      ]
    },
    {
      "cell_type": "code",
      "metadata": {
        "id": "147hwFXFqL94",
        "colab_type": "code",
        "colab": {
          "base_uri": "https://localhost:8080/",
          "height": 187
        },
        "outputId": "3788b524-90d4-41cc-89ba-17bfc3d8bbe3"
      },
      "source": [
        "!pip show general-distribution"
      ],
      "execution_count": 2,
      "outputs": [
        {
          "output_type": "stream",
          "text": [
            "Name: general-distribution\n",
            "Version: 0.0.1\n",
            "Summary: probability distribution is the mathematical function that gives the probabilities of occurrence\n",
            "Home-page: https://github.com/aquib1011/general-distribution\n",
            "Author: Aquib Iqbal\n",
            "Author-email: None\n",
            "License: MIT\n",
            "Location: /usr/local/lib/python3.6/dist-packages\n",
            "Requires: \n",
            "Required-by: \n"
          ],
          "name": "stdout"
        }
      ]
    },
    {
      "cell_type": "code",
      "metadata": {
        "id": "lYjpNV3faoCv",
        "colab_type": "code",
        "colab": {}
      },
      "source": [
        "from general_distribution import Gaussian, Binomial  # importing probablity classes"
      ],
      "execution_count": 0,
      "outputs": []
    },
    {
      "cell_type": "markdown",
      "metadata": {
        "id": "EFAI8A29hIFE",
        "colab_type": "text"
      },
      "source": [
        "**Gaussian class**"
      ]
    },
    {
      "cell_type": "code",
      "metadata": {
        "id": "VBPc20j9avZL",
        "colab_type": "code",
        "colab": {}
      },
      "source": [
        "gaussian= Gaussian() "
      ],
      "execution_count": 0,
      "outputs": []
    },
    {
      "cell_type": "code",
      "metadata": {
        "id": "I_tPugAaazN1",
        "colab_type": "code",
        "colab": {
          "base_uri": "https://localhost:8080/",
          "height": 282
        },
        "outputId": "6870fed4-da0b-48f2-e7d9-f8e0ef32a9a0"
      },
      "source": [
        "gaussian.read_data_file('/content/numbers.txt')"
      ],
      "execution_count": 5,
      "outputs": [
        {
          "output_type": "error",
          "ename": "FileNotFoundError",
          "evalue": "ignored",
          "traceback": [
            "\u001b[0;31m---------------------------------------------------------------------------\u001b[0m",
            "\u001b[0;31mFileNotFoundError\u001b[0m                         Traceback (most recent call last)",
            "\u001b[0;32m<ipython-input-5-95d409800aed>\u001b[0m in \u001b[0;36m<module>\u001b[0;34m()\u001b[0m\n\u001b[0;32m----> 1\u001b[0;31m \u001b[0mgaussian\u001b[0m\u001b[0;34m.\u001b[0m\u001b[0mread_data_file\u001b[0m\u001b[0;34m(\u001b[0m\u001b[0;34m'/content/numbers.txt'\u001b[0m\u001b[0;34m)\u001b[0m\u001b[0;34m\u001b[0m\u001b[0;34m\u001b[0m\u001b[0m\n\u001b[0m",
            "\u001b[0;32m/usr/local/lib/python3.6/dist-packages/general_distribution/Generaldistribution.py\u001b[0m in \u001b[0;36mread_data_file\u001b[0;34m(self, file_name)\u001b[0m\n\u001b[1;32m     30\u001b[0m \t\t\"\"\"\n\u001b[1;32m     31\u001b[0m \u001b[0;34m\u001b[0m\u001b[0m\n\u001b[0;32m---> 32\u001b[0;31m                 \u001b[0;32mwith\u001b[0m \u001b[0mopen\u001b[0m\u001b[0;34m(\u001b[0m\u001b[0mfile_name\u001b[0m\u001b[0;34m)\u001b[0m \u001b[0;32mas\u001b[0m \u001b[0mfile\u001b[0m\u001b[0;34m:\u001b[0m\u001b[0;34m\u001b[0m\u001b[0;34m\u001b[0m\u001b[0m\n\u001b[0m\u001b[1;32m     33\u001b[0m                         \u001b[0mdata_list\u001b[0m \u001b[0;34m=\u001b[0m \u001b[0;34m[\u001b[0m\u001b[0;34m]\u001b[0m\u001b[0;34m\u001b[0m\u001b[0;34m\u001b[0m\u001b[0m\n\u001b[1;32m     34\u001b[0m                         \u001b[0mline\u001b[0m \u001b[0;34m=\u001b[0m \u001b[0mfile\u001b[0m\u001b[0;34m.\u001b[0m\u001b[0mreadline\u001b[0m\u001b[0;34m(\u001b[0m\u001b[0;34m)\u001b[0m\u001b[0;34m\u001b[0m\u001b[0;34m\u001b[0m\u001b[0m\n",
            "\u001b[0;31mFileNotFoundError\u001b[0m: [Errno 2] No such file or directory: '/content/numbers.txt'"
          ]
        }
      ]
    },
    {
      "cell_type": "code",
      "metadata": {
        "id": "EcWNfMVrdOqD",
        "colab_type": "code",
        "colab": {}
      },
      "source": [
        "gaussian.data"
      ],
      "execution_count": 0,
      "outputs": []
    },
    {
      "cell_type": "code",
      "metadata": {
        "id": "eVEkKUdsa9Oh",
        "colab_type": "code",
        "colab": {}
      },
      "source": [
        "gaussian.calculate_mean() #To calculate Gaussian mean in distribution\n"
      ],
      "execution_count": 0,
      "outputs": []
    },
    {
      "cell_type": "code",
      "metadata": {
        "id": "UojaZOUpbCB9",
        "colab_type": "code",
        "colab": {}
      },
      "source": [
        "gaussian.calculate_stdev() #To calculate Standard deviation"
      ],
      "execution_count": 0,
      "outputs": []
    },
    {
      "cell_type": "code",
      "metadata": {
        "id": "OoROyOBrbIL9",
        "colab_type": "code",
        "colab": {}
      },
      "source": [
        "gaussian.pdf(3) #To calculate Probability distribution function"
      ],
      "execution_count": 0,
      "outputs": []
    },
    {
      "cell_type": "code",
      "metadata": {
        "id": "A9IDgi7KbSpe",
        "colab_type": "code",
        "colab": {}
      },
      "source": [
        "gaussian.plot_histogram()"
      ],
      "execution_count": 0,
      "outputs": []
    },
    {
      "cell_type": "code",
      "metadata": {
        "id": "TqmK1IYdbOqf",
        "colab_type": "code",
        "colab": {}
      },
      "source": [
        "gaussian.plot_histogram_pdf()"
      ],
      "execution_count": 0,
      "outputs": []
    },
    {
      "cell_type": "code",
      "metadata": {
        "id": "0ddya3yIgxZJ",
        "colab_type": "code",
        "colab": {}
      },
      "source": [
        "#Addition of two Gaussian\n",
        "\n",
        "gaussian_one = Gaussian(25, 3)\n",
        "gaussian_two = Gaussian(30, 4)\n",
        "gaussian_sum = gaussian_one + gaussian_two"
      ],
      "execution_count": 0,
      "outputs": []
    },
    {
      "cell_type": "code",
      "metadata": {
        "id": "YuQ2RbZWg5lI",
        "colab_type": "code",
        "colab": {}
      },
      "source": [
        "print(gaussian_sum)"
      ],
      "execution_count": 0,
      "outputs": []
    },
    {
      "cell_type": "markdown",
      "metadata": {
        "id": "W7wVttPJg-wW",
        "colab_type": "text"
      },
      "source": [
        "**BINOMIAL DISTRIBUTION**"
      ]
    },
    {
      "cell_type": "code",
      "metadata": {
        "id": "vNOsbsn3bbLb",
        "colab_type": "code",
        "colab": {}
      },
      "source": [
        "binomial = Binomial(.23,2) # Assigning Binomial class with probability and number of trials\n"
      ],
      "execution_count": 0,
      "outputs": []
    },
    {
      "cell_type": "code",
      "metadata": {
        "id": "c_3cMYgQbgTO",
        "colab_type": "code",
        "colab": {}
      },
      "source": [
        "binomial.read_data_file(\"/content/numbers.txt\")"
      ],
      "execution_count": 0,
      "outputs": []
    },
    {
      "cell_type": "code",
      "metadata": {
        "id": "eVno2u-qbn8F",
        "colab_type": "code",
        "colab": {}
      },
      "source": [
        "binomial.calculate_mean()  #To calculate Binomial mean in distribution"
      ],
      "execution_count": 0,
      "outputs": []
    },
    {
      "cell_type": "code",
      "metadata": {
        "id": "Jfu4FSeKbsW8",
        "colab_type": "code",
        "colab": {}
      },
      "source": [
        "binomial.calculate_stdev() #To calculate Standard deviation"
      ],
      "execution_count": 0,
      "outputs": []
    },
    {
      "cell_type": "code",
      "metadata": {
        "id": "KA5nBg0_hvo6",
        "colab_type": "code",
        "colab": {}
      },
      "source": [
        "binomial.pdf(1) #Probability distribution function"
      ],
      "execution_count": 0,
      "outputs": []
    },
    {
      "cell_type": "code",
      "metadata": {
        "id": "nDgr_805iNA6",
        "colab_type": "code",
        "colab": {}
      },
      "source": [
        "binomial.plot_bar_pdf()"
      ],
      "execution_count": 0,
      "outputs": []
    },
    {
      "cell_type": "code",
      "metadata": {
        "id": "8VkkXUEAiRfT",
        "colab_type": "code",
        "colab": {}
      },
      "source": [
        "#Addition of two Binomial\n",
        "\n",
        "binomial_one = Binomial(.4, 20)\n",
        "binomial_two = Binomial(.4, 60)\n",
        "binomial_sum = binomial_one + binomial_two\n",
        "print(binomial_sum)"
      ],
      "execution_count": 0,
      "outputs": []
    },
    {
      "cell_type": "code",
      "metadata": {
        "id": "Q53CsxZeigbH",
        "colab_type": "code",
        "colab": {}
      },
      "source": [
        ""
      ],
      "execution_count": 0,
      "outputs": []
    }
  ]
}